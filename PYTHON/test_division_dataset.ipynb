{
 "cells": [
  {
   "cell_type": "code",
   "execution_count": null,
   "id": "de8d12f7",
   "metadata": {},
   "outputs": [
    {
     "name": "stderr",
     "output_type": "stream",
     "text": [
      "..\n",
      "----------------------------------------------------------------------\n",
      "Ran 2 tests in 0.011s\n",
      "\n",
      "OK\n"
     ]
    }
   ],
   "source": [
    "# 📦 Importar librerías necesarias\n",
    "import unittest\n",
    "import pandas as pd\n",
    "from sklearn.model_selection import train_test_split\n",
    "\n",
    "# 📌 Función a probar\n",
    "def split_data(df, test_size=0.2, random_state=42):\n",
    "    train_df, test_df = train_test_split(df, test_size=test_size, random_state=random_state)\n",
    "    return train_df, test_df\n",
    "\n",
    "# 📊 Dataset de prueba\n",
    "data = {\n",
    "    \"nombre\": [\"Ana\", \"Luis\", \"Carlos\", \"María\", \"Pedro\"],\n",
    "    \"edad\": [23, 34, 45, 31, 29]\n",
    "}\n",
    "df = pd.DataFrame(data)\n",
    "\n",
    "# 🧪 Clase de pruebas unitarias\n",
    "class TestSplitData(unittest.TestCase):\n",
    "    def test_split_shape(self):\n",
    "        train_df, test_df = split_data(df, test_size=0.4, random_state=0)\n",
    "        # Verificar que la suma de tamaños coincida con el original\n",
    "        self.assertEqual(len(train_df) + len(test_df), len(df))\n",
    "        # Verificar que el tamaño del test sea 40%\n",
    "        self.assertEqual(len(test_df), int(len(df) * 0.4))\n",
    "\n",
    "    def test_no_overlap(self):\n",
    "        train_df, test_df = split_data(df, test_size=0.4, random_state=0)\n",
    "        # Asegurarse de que no hay elementos repetidos\n",
    "        self.assertTrue(train_df.index.isin(test_df.index).sum() == 0)\n",
    "\n",
    "# ▶ Ejecutar pruebas\n",
    "if __name__ == \"__main__\":\n",
    "    unittest.main(argv=[''], exit=False)\n"
   ]
  }
 ],
 "metadata": {
  "kernelspec": {
   "display_name": ".venv",
   "language": "python",
   "name": "python3"
  },
  "language_info": {
   "codemirror_mode": {
    "name": "ipython",
    "version": 3
   },
   "file_extension": ".py",
   "mimetype": "text/x-python",
   "name": "python",
   "nbconvert_exporter": "python",
   "pygments_lexer": "ipython3",
   "version": "3.13.6"
  }
 },
 "nbformat": 4,
 "nbformat_minor": 5
}
