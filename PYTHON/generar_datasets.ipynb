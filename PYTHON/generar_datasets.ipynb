{
 "cells": [
  {
   "cell_type": "code",
   "execution_count": 27,
   "id": "7b8a0238",
   "metadata": {},
   "outputs": [],
   "source": [
    "import openai\n",
    "import pandas as pd\n",
    "import os\n",
    "import json"
   ]
  },
  {
   "cell_type": "code",
   "execution_count": 28,
   "id": "c78a7295",
   "metadata": {},
   "outputs": [],
   "source": [
    "openai.api_key = os.getenv(\"OPENAI_API_KEY\")"
   ]
  },
  {
   "cell_type": "code",
   "execution_count": 29,
   "id": "66e8b814",
   "metadata": {},
   "outputs": [],
   "source": [
    "prompt = '''Genera una pequeña descripcion de producto y un posible nonbre de compañia de acuerdo al input, la salida debe ser en un formato JSON\n",
    "ejemplo:\n",
    "###\n",
    "Input: auto\n",
    "output: 'Descripcion':'Auto electrico de color rojo, amigable con el medio ambiente'\n",
    " 'compañia': 'EcoCar'\n",
    "###\n",
    " \n",
    "input:{}\n",
    "output en formato JSON:\n",
    "'''"
   ]
  },
  {
   "cell_type": "code",
   "execution_count": 30,
   "id": "c40ac667",
   "metadata": {},
   "outputs": [],
   "source": [
    "def return_productos(product):\n",
    "    completion = openai.ChatCompletion.create(\n",
    "        model=\"gpt-4o\",  # O el modelo que tengas disponible\n",
    "        messages=[\n",
    "            {\"role\": \"user\", \"content\": prompt.format(product)},\n",
    "        ],\n",
    "        temperature=0\n",
    "    )\n",
    "    \n",
    "    raw_response = completion.choices[0].message[\"content\"].strip()\n",
    "    \n",
    "    # Intentar extraer solo el JSON\n",
    "    try:\n",
    "        return json.loads(raw_response)\n",
    "    except json.JSONDecodeError:\n",
    "        import re\n",
    "        json_match = re.search(r\"\\{.*\\}\", raw_response, re.DOTALL)\n",
    "        if json_match:\n",
    "            return json.loads(json_match.group(0))\n",
    "        else:\n",
    "            raise ValueError(f\"No se pudo extraer JSON de la respuesta: {raw_response}\")"
   ]
  },
  {
   "cell_type": "code",
   "execution_count": 31,
   "id": "04ba84d3",
   "metadata": {},
   "outputs": [
    {
     "data": {
      "text/plain": [
       "{'Descripcion': 'Silla ergonómica de diseño moderno, ideal para oficinas y espacios de trabajo, fabricada con materiales reciclables.',\n",
       " 'compañia': 'EcoSeating'}"
      ]
     },
     "execution_count": 31,
     "metadata": {},
     "output_type": "execute_result"
    }
   ],
   "source": [
    "return_productos('silla')"
   ]
  },
  {
   "cell_type": "code",
   "execution_count": 32,
   "id": "995992d8",
   "metadata": {},
   "outputs": [],
   "source": [
    "## Crea una lista de 10 productos de clases distintas\n",
    "productos = [\n",
    "    'silla',\n",
    "    'mesa',\n",
    "    'laptop',\n",
    "    'teléfono móvil',\n",
    "    'reloj inteligente',\n",
    "    'bicicleta',\n",
    "    'auriculares',\n",
    "    'televisor',\n",
    "    'cámara fotográfica',\n",
    "    'impresora'\n",
    "]"
   ]
  },
  {
   "cell_type": "code",
   "execution_count": 33,
   "id": "0b001236",
   "metadata": {},
   "outputs": [],
   "source": [
    "list_desc = []\n",
    "list_prod = []\n",
    "for _ in productos:\n",
    "    try:\n",
    "        list_desc.append(return_productos(_))\n",
    "        list_prod.append(_)\n",
    "    except:\n",
    "        None"
   ]
  },
  {
   "cell_type": "code",
   "execution_count": 35,
   "id": "5809e595",
   "metadata": {},
   "outputs": [],
   "source": [
    "df = pd.DataFrame({'producto': list_prod, 'descripciones': list_desc})"
   ]
  },
  {
   "cell_type": "code",
   "execution_count": 36,
   "id": "bc8cb9a3",
   "metadata": {},
   "outputs": [
    {
     "data": {
      "text/html": [
       "<div>\n",
       "<style scoped>\n",
       "    .dataframe tbody tr th:only-of-type {\n",
       "        vertical-align: middle;\n",
       "    }\n",
       "\n",
       "    .dataframe tbody tr th {\n",
       "        vertical-align: top;\n",
       "    }\n",
       "\n",
       "    .dataframe thead th {\n",
       "        text-align: right;\n",
       "    }\n",
       "</style>\n",
       "<table border=\"1\" class=\"dataframe\">\n",
       "  <thead>\n",
       "    <tr style=\"text-align: right;\">\n",
       "      <th></th>\n",
       "      <th>producto</th>\n",
       "      <th>descripciones</th>\n",
       "    </tr>\n",
       "  </thead>\n",
       "  <tbody>\n",
       "    <tr>\n",
       "      <th>0</th>\n",
       "      <td>silla</td>\n",
       "      <td>{'Descripcion': 'Silla ergonómica de diseño mo...</td>\n",
       "    </tr>\n",
       "    <tr>\n",
       "      <th>1</th>\n",
       "      <td>mesa</td>\n",
       "      <td>{'Descripcion': 'Mesa de madera de roble, idea...</td>\n",
       "    </tr>\n",
       "    <tr>\n",
       "      <th>2</th>\n",
       "      <td>laptop</td>\n",
       "      <td>{'Descripcion': 'Laptop ultraligera con pantal...</td>\n",
       "    </tr>\n",
       "    <tr>\n",
       "      <th>3</th>\n",
       "      <td>teléfono móvil</td>\n",
       "      <td>{'Descripcion': 'Teléfono móvil de última gene...</td>\n",
       "    </tr>\n",
       "    <tr>\n",
       "      <th>4</th>\n",
       "      <td>reloj inteligente</td>\n",
       "      <td>{'Descripcion': 'Reloj inteligente con monitor...</td>\n",
       "    </tr>\n",
       "    <tr>\n",
       "      <th>5</th>\n",
       "      <td>bicicleta</td>\n",
       "      <td>{'Descripcion': 'Bicicleta de montaña con marc...</td>\n",
       "    </tr>\n",
       "    <tr>\n",
       "      <th>6</th>\n",
       "      <td>auriculares</td>\n",
       "      <td>{'Descripcion': 'Auriculares inalámbricos con ...</td>\n",
       "    </tr>\n",
       "    <tr>\n",
       "      <th>7</th>\n",
       "      <td>televisor</td>\n",
       "      <td>{'Descripcion': 'Televisor 4K Ultra HD con pan...</td>\n",
       "    </tr>\n",
       "    <tr>\n",
       "      <th>8</th>\n",
       "      <td>cámara fotográfica</td>\n",
       "      <td>{'Descripcion': 'Cámara fotográfica digital de...</td>\n",
       "    </tr>\n",
       "    <tr>\n",
       "      <th>9</th>\n",
       "      <td>impresora</td>\n",
       "      <td>{'Descripcion': 'Impresora multifuncional de a...</td>\n",
       "    </tr>\n",
       "  </tbody>\n",
       "</table>\n",
       "</div>"
      ],
      "text/plain": [
       "             producto                                      descripciones\n",
       "0               silla  {'Descripcion': 'Silla ergonómica de diseño mo...\n",
       "1                mesa  {'Descripcion': 'Mesa de madera de roble, idea...\n",
       "2              laptop  {'Descripcion': 'Laptop ultraligera con pantal...\n",
       "3      teléfono móvil  {'Descripcion': 'Teléfono móvil de última gene...\n",
       "4   reloj inteligente  {'Descripcion': 'Reloj inteligente con monitor...\n",
       "5           bicicleta  {'Descripcion': 'Bicicleta de montaña con marc...\n",
       "6         auriculares  {'Descripcion': 'Auriculares inalámbricos con ...\n",
       "7           televisor  {'Descripcion': 'Televisor 4K Ultra HD con pan...\n",
       "8  cámara fotográfica  {'Descripcion': 'Cámara fotográfica digital de...\n",
       "9           impresora  {'Descripcion': 'Impresora multifuncional de a..."
      ]
     },
     "execution_count": 36,
     "metadata": {},
     "output_type": "execute_result"
    }
   ],
   "source": [
    "df"
   ]
  },
  {
   "cell_type": "code",
   "execution_count": 37,
   "id": "b3141741",
   "metadata": {},
   "outputs": [],
   "source": [
    "def split_json(df):\n",
    "    df['Descripcion'] = df['descripciones'].apply(lambda x: x.get('Descripcion', ''))\n",
    "    df['compañia'] = df['descripciones'].apply(lambda x: x.get('compañia', ''))\n",
    "    df.drop(columns=['descripciones'], inplace=True)\n",
    "    return df\n",
    "\n",
    "df = split_json(df)"
   ]
  },
  {
   "cell_type": "code",
   "execution_count": 38,
   "id": "35b9b97d",
   "metadata": {},
   "outputs": [
    {
     "data": {
      "text/html": [
       "<div>\n",
       "<style scoped>\n",
       "    .dataframe tbody tr th:only-of-type {\n",
       "        vertical-align: middle;\n",
       "    }\n",
       "\n",
       "    .dataframe tbody tr th {\n",
       "        vertical-align: top;\n",
       "    }\n",
       "\n",
       "    .dataframe thead th {\n",
       "        text-align: right;\n",
       "    }\n",
       "</style>\n",
       "<table border=\"1\" class=\"dataframe\">\n",
       "  <thead>\n",
       "    <tr style=\"text-align: right;\">\n",
       "      <th></th>\n",
       "      <th>producto</th>\n",
       "      <th>Descripcion</th>\n",
       "      <th>compañia</th>\n",
       "    </tr>\n",
       "  </thead>\n",
       "  <tbody>\n",
       "    <tr>\n",
       "      <th>0</th>\n",
       "      <td>silla</td>\n",
       "      <td>Silla ergonómica de diseño moderno, ideal para...</td>\n",
       "      <td>ConfortEco</td>\n",
       "    </tr>\n",
       "    <tr>\n",
       "      <th>1</th>\n",
       "      <td>mesa</td>\n",
       "      <td>Mesa de madera de roble, ideal para comedores ...</td>\n",
       "      <td>MueblesArmonía</td>\n",
       "    </tr>\n",
       "    <tr>\n",
       "      <th>2</th>\n",
       "      <td>laptop</td>\n",
       "      <td>Laptop ultraligera con pantalla táctil de alta...</td>\n",
       "      <td>TechWave</td>\n",
       "    </tr>\n",
       "    <tr>\n",
       "      <th>3</th>\n",
       "      <td>teléfono móvil</td>\n",
       "      <td>Teléfono móvil de última generación con pantal...</td>\n",
       "      <td>TechWave</td>\n",
       "    </tr>\n",
       "    <tr>\n",
       "      <th>4</th>\n",
       "      <td>reloj inteligente</td>\n",
       "      <td>Reloj inteligente con monitor de salud, notifi...</td>\n",
       "      <td>TechTime</td>\n",
       "    </tr>\n",
       "    <tr>\n",
       "      <th>5</th>\n",
       "      <td>bicicleta</td>\n",
       "      <td>Bicicleta de montaña con marco de aluminio lig...</td>\n",
       "      <td>MountainRide</td>\n",
       "    </tr>\n",
       "    <tr>\n",
       "      <th>6</th>\n",
       "      <td>auriculares</td>\n",
       "      <td>Auriculares inalámbricos con cancelación de ru...</td>\n",
       "      <td>SoundWave</td>\n",
       "    </tr>\n",
       "    <tr>\n",
       "      <th>7</th>\n",
       "      <td>televisor</td>\n",
       "      <td>Televisor 4K Ultra HD con pantalla OLED, ofrec...</td>\n",
       "      <td>VisionTech</td>\n",
       "    </tr>\n",
       "    <tr>\n",
       "      <th>8</th>\n",
       "      <td>cámara fotográfica</td>\n",
       "      <td>Cámara fotográfica digital de alta resolución,...</td>\n",
       "      <td>FotoVision</td>\n",
       "    </tr>\n",
       "    <tr>\n",
       "      <th>9</th>\n",
       "      <td>impresora</td>\n",
       "      <td>Impresora multifuncional de alta velocidad, id...</td>\n",
       "      <td>PrintEco Solutions</td>\n",
       "    </tr>\n",
       "  </tbody>\n",
       "</table>\n",
       "</div>"
      ],
      "text/plain": [
       "             producto                                        Descripcion  \\\n",
       "0               silla  Silla ergonómica de diseño moderno, ideal para...   \n",
       "1                mesa  Mesa de madera de roble, ideal para comedores ...   \n",
       "2              laptop  Laptop ultraligera con pantalla táctil de alta...   \n",
       "3      teléfono móvil  Teléfono móvil de última generación con pantal...   \n",
       "4   reloj inteligente  Reloj inteligente con monitor de salud, notifi...   \n",
       "5           bicicleta  Bicicleta de montaña con marco de aluminio lig...   \n",
       "6         auriculares  Auriculares inalámbricos con cancelación de ru...   \n",
       "7           televisor  Televisor 4K Ultra HD con pantalla OLED, ofrec...   \n",
       "8  cámara fotográfica  Cámara fotográfica digital de alta resolución,...   \n",
       "9           impresora  Impresora multifuncional de alta velocidad, id...   \n",
       "\n",
       "             compañia  \n",
       "0          ConfortEco  \n",
       "1      MueblesArmonía  \n",
       "2            TechWave  \n",
       "3            TechWave  \n",
       "4            TechTime  \n",
       "5        MountainRide  \n",
       "6           SoundWave  \n",
       "7          VisionTech  \n",
       "8          FotoVision  \n",
       "9  PrintEco Solutions  "
      ]
     },
     "execution_count": 38,
     "metadata": {},
     "output_type": "execute_result"
    }
   ],
   "source": [
    "df"
   ]
  },
  {
   "cell_type": "code",
   "execution_count": null,
   "id": "8cbcea9f",
   "metadata": {},
   "outputs": [],
   "source": []
  }
 ],
 "metadata": {
  "kernelspec": {
   "display_name": "Python 3",
   "language": "python",
   "name": "python3"
  },
  "language_info": {
   "codemirror_mode": {
    "name": "ipython",
    "version": 3
   },
   "file_extension": ".py",
   "mimetype": "text/x-python",
   "name": "python",
   "nbconvert_exporter": "python",
   "pygments_lexer": "ipython3",
   "version": "3.13.6"
  }
 },
 "nbformat": 4,
 "nbformat_minor": 5
}
