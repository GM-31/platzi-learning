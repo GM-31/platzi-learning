{
 "cells": [
  {
   "cell_type": "code",
   "execution_count": null,
   "id": "70aab87c",
   "metadata": {},
   "outputs": [],
   "source": [
    "import pandas as pd\n",
    "import plotly.express as px\n",
    "\n",
    "# 📌 Crear DataFrame con datos ficticios\n",
    "data = {\n",
    "    'Category': ['Tecnología', 'Tecnología', 'Muebles', 'Muebles', 'Oficina', 'Oficina'],\n",
    "    'Sub-Category': ['Laptops', 'Tablets', 'Sillas', 'Escritorios', 'Papel', 'Bolígrafos'],\n",
    "    'Sales': [5000, 3000, 2000, 4000, 1500, 700]\n",
    "}\n",
    "\n",
    "df = pd.DataFrame(data)\n",
    "\n",
    "# 📊 Agrupar datos por categoría y subcategoría\n",
    "df_grouped = df.groupby(['Category', 'Sub-Category'], as_index=False)['Sales'].sum()\n",
    "\n",
    "# 🌞 Crear gráfico Sunburst\n",
    "fig = px.sunburst(\n",
    "    df_grouped,\n",
    "    path=['Category', 'Sub-Category'],  # Jerarquía\n",
    "    values='Sales',                     # Tamaño de cada sector\n",
    "    color='Sales',                      # Colorear por ventas\n",
    "    color_continuous_scale='Blues',     # Escala de color\n",
    "    title=\"Distribución de Ventas por Categoría y Subcategoría\"\n",
    ")\n",
    "\n",
    "# 📌 Mostrar gráfico\n",
    "fig.show()\n"
   ]
  }
 ],
 "metadata": {
  "kernelspec": {
   "display_name": "Python 3",
   "language": "python",
   "name": "python3"
  },
  "language_info": {
   "codemirror_mode": {
    "name": "ipython",
    "version": 3
   },
   "file_extension": ".py",
   "mimetype": "text/x-python",
   "name": "python",
   "nbconvert_exporter": "python",
   "pygments_lexer": "ipython3",
   "version": "3.13.6"
  }
 },
 "nbformat": 4,
 "nbformat_minor": 5
}
