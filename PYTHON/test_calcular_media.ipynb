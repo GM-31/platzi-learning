{
 "cells": [
  {
   "cell_type": "code",
   "execution_count": 1,
   "id": "e63183a3",
   "metadata": {},
   "outputs": [],
   "source": [
    "def calcular_media(numeros):\n",
    "    return sum(numeros) / len(numeros) "
   ]
  },
  {
   "cell_type": "code",
   "execution_count": 2,
   "id": "1529f929",
   "metadata": {},
   "outputs": [],
   "source": [
    "## genera un script para hacer unit test de la función calcular_mnedia\n",
    "\n",
    "def test_calcular_media():\n",
    "    # Casos de prueba\n",
    "    assert calcular_media([1, 2, 3]) == 2\n",
    "    assert calcular_media([10, 20, 30]) == 20\n",
    "    assert calcular_media([-1, 0, 1]) == 0\n",
    "    assert calcular_media([5]) == 5\n",
    "\n",
    "test_calcular_media()"
   ]
  }
 ],
 "metadata": {
  "kernelspec": {
   "display_name": ".venv",
   "language": "python",
   "name": "python3"
  },
  "language_info": {
   "codemirror_mode": {
    "name": "ipython",
    "version": 3
   },
   "file_extension": ".py",
   "mimetype": "text/x-python",
   "name": "python",
   "nbconvert_exporter": "python",
   "pygments_lexer": "ipython3",
   "version": "3.13.6"
  }
 },
 "nbformat": 4,
 "nbformat_minor": 5
}
